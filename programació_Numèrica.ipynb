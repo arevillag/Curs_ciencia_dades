{
 "cells": [
  {
   "cell_type": "code",
   "execution_count": 38,
   "id": "5c13cbcb",
   "metadata": {},
   "outputs": [
    {
     "name": "stdout",
     "output_type": "stream",
     "text": [
      "Valor de la mitjana: 2.8333333333333335\n",
      "Valor de la mediana: 3.0\n",
      "Valor de la desviació: 1.21\n",
      "Valor mínim: 1\n",
      "Valor màxim: 5\n",
      "Array té més d’una dimensió\n"
     ]
    }
   ],
   "source": [
    "# Exercici 1\n",
    "# Crea una funció que donat un Array d’una dimensió, et faci un resum estadístic bàsic de les dades.\n",
    "# Si detecta que l’array té més d’una dimensió, ha de mostrar un missatge d’error\n",
    "import numpy as np\n",
    "\n",
    "def menor(lliste):\n",
    "    if lliste.ndim > 1:\n",
    "        print(\"Array té més d’una dimensió\")\n",
    "    else:\n",
    "        # Mostrem valors si es array de 1 dimensió\n",
    "        print(\"Valor de la mitjana:\", np.mean(lliste))\n",
    "        print(\"Valor de la mediana:\", np.median(lliste))\n",
    "        print(\"Valor de la desviació:\", np.around(np.std(lliste),2))\n",
    "        print(\"Valor mínim:\", np.amin(lliste))\n",
    "        print(\"Valor màxim:\", np.amax(lliste))\n",
    "\n",
    "# Mostrem valors si es array de 1 dimensió\n",
    "lliste = np.array([1, 2, 3, 3, 5, 3])\n",
    "menor(lliste)\n",
    "\n",
    "# Mostrem error mes d'una dimensió\n",
    "lliste = np.array([[1, 2, 3], [1, 2, 3]])\n",
    "menor(lliste)"
   ]
  },
  {
   "cell_type": "code",
   "execution_count": 39,
   "id": "efe8ad4f",
   "metadata": {},
   "outputs": [
    {
     "name": "stdout",
     "output_type": "stream",
     "text": [
      "[[31 16 69 67]\n",
      " [29 63 76 19]\n",
      " [14 85 17 90]\n",
      " [68 35 81 34]]\n",
      "None\n"
     ]
    }
   ],
   "source": [
    "# Exercici 2\n",
    "# Crea una funció que et generi un quadrat NxN de nombres aleatoris entre el 0 i el 100.\n",
    "import numpy as np\n",
    "from numpy import random\n",
    "\n",
    "def omplir(n):\n",
    "    matriu = random.randint(100, size=(n,n))\n",
    "    print(matriu)\n",
    "\n",
    "\n",
    "# Mostrem els valors random de la matriu NxN\n",
    "print(omplir(4))"
   ]
  },
  {
   "cell_type": "code",
   "execution_count": 12,
   "id": "db5492a8",
   "metadata": {},
   "outputs": [
    {
     "name": "stdout",
     "output_type": "stream",
     "text": [
      "Totals fila: [ 6 60]\n",
      "Totals columna: [11 22 33]\n"
     ]
    }
   ],
   "source": [
    "# Exercici 3\n",
    "# Crea una funció que donada una taula de dues dimensions, et calculi els totals per fila i els totals per columna.\n",
    "import numpy as np\n",
    "\n",
    "def calcularTotals(x):\n",
    "    print(\"Totals fila:\",np.sum(x, axis=1))\n",
    "    print(\"Totals columna:\",np.sum(x, axis=0))\n",
    "\n",
    "\n",
    "lliste = np.array([[1, 2, 3], [10, 20, 30]])    \n",
    "\n",
    "#Cridem al calcul de total per fila i columna    \n",
    "calcularTotals(lliste)\n"
   ]
  },
  {
   "cell_type": "code",
   "execution_count": 37,
   "id": "36a6cbd1",
   "metadata": {},
   "outputs": [
    {
     "name": "stdout",
     "output_type": "stream",
     "text": [
      "Si r<0, la relació és negativa. Si augmenta els valors d'una de les variables, disminueix els de l'altre    \n",
      "Valor correlacio coeficient: -0.34131410440956356\n"
     ]
    }
   ],
   "source": [
    "# Exercici 4\n",
    "# Implementa manualment una funció que calculi el coeficient de correlació. Informa’t-en sobre els seus usos i interpretació.\n",
    "import numpy as np\n",
    "\n",
    "def calcularCorrelacio(x,y):\n",
    "    #Valors de sortida del coeficient de correlacio\n",
    "    # Si r=0, no existeix relació lineal entre les dues variables\n",
    "    # Si r>0, la relació és positiva. Si augmenta els valors d'una de les variables, augmenta els de l'altre\n",
    "    # Si r<0, la relació és negativa. Si augmenta els valors d'una de les variables, disminueix els de l'altre        \n",
    "    r = np.cov(x,y)[0,1] / (np.std(x)*np.std(y))   # Correlacio coeficient\n",
    "    \n",
    "    if r == 0:\n",
    "        print(\"Si r=0, no existeix relació lineal entre les dues variables\")\n",
    "    elif r > 0 :\n",
    "        print(\"Si r>0, la relació és positiva. Si augmenta els valors d'una de les variables, augmenta els de l'altre\")\n",
    "    else:\n",
    "        print(\"Si r<0, la relació és negativa. Si augmenta els valors d'una de les variables, disminueix els de l'altre    \")\n",
    "    \n",
    "    print(\"Valor correlacio coeficient: \" + str(r))\n",
    "    \n",
    "#Cridem al calcul del coeficient de correlacio\n",
    "\n",
    "#dadesAlcada = np.array([1.25, 1.28, 1.27, 1.21, 1.22, 1.29, 1.30, 1.24, 1.27, 1.29, 1.25, 1.28, 1.27, 1.21, 1.22, 1.29, 1.30, 1.24, 1.27, 1.29, 1.25, 1.28, 1.27, 1.21, 1.22, 1.29, 1.30, 1.24, 1.27, 1.29])\n",
    "#dadesPes = np.array([32,33,34,30,32,35,34,32,32,35,33,35,34,30,33,34,35,32,33,33,33,34,34,31,32,34,34,31,35,34])\n",
    "\n",
    "dadesAlcada= np.random.rand(7) # np.array([1.25, 1.28, 1.27, 1.21])\n",
    "dadesPes= np.random.rand(7)    # np.array([32,33,34,30])\n",
    "\n",
    "calcularCorrelacio(dadesAlcada,dadesPes)"
   ]
  }
 ],
 "metadata": {
  "kernelspec": {
   "display_name": "Python 3",
   "language": "python",
   "name": "python3"
  },
  "language_info": {
   "codemirror_mode": {
    "name": "ipython",
    "version": 3
   },
   "file_extension": ".py",
   "mimetype": "text/x-python",
   "name": "python",
   "nbconvert_exporter": "python",
   "pygments_lexer": "ipython3",
   "version": "3.8.8"
  }
 },
 "nbformat": 4,
 "nbformat_minor": 5
}
