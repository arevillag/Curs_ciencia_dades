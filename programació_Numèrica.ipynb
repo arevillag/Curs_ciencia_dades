{
 "cells": [
  {
   "cell_type": "code",
   "execution_count": 3,
   "id": "5c13cbcb",
   "metadata": {},
   "outputs": [
    {
     "name": "stdout",
     "output_type": "stream",
     "text": [
      "[1 2 3 5]\n",
      "[1 1 3 1]\n"
     ]
    }
   ],
   "source": [
    "# Exercici 1\n",
    "import numpy as np\n",
    "\n",
    "def menor(lliste):\n",
    "\tif lliste.ndim > 1:\n",
    "\t\tprint(\"Array té més d’una dimensió\")\n",
    "\t\treturn None, None\n",
    "\t# return np.mean(lliste)\n",
    "\treturn np.unique(lliste, return_counts=True)\n",
    "\n",
    "lliste = np.array([1, 2, 3, 3, 5, 3])\n",
    "#lliste = np.array([[1, 2], [3, 4]])\n",
    "\n",
    "valors, repeticions = menor(lliste)\n",
    "\n",
    "# Mostrem valors si es array de 1 dimensió\n",
    "if not valors is None:\n",
    "\tprint(valors)  # valor\n",
    "\tprint(repeticions)  # Vegades que es repeteixen"
   ]
  },
  {
   "cell_type": "code",
   "execution_count": 1,
   "id": "efe8ad4f",
   "metadata": {},
   "outputs": [
    {
     "name": "stdout",
     "output_type": "stream",
     "text": [
      "[[20, 2, 48, 72], [67, 26, 78, 75], [14, 62, 12, 22], [90, 39, 67, 81]]\n"
     ]
    }
   ],
   "source": [
    "#Exercici 2\n",
    "# Llibreria per fer ramdom\n",
    "from random import randint\n",
    "\n",
    "def omplir(n):\n",
    "\tmatriu=[]\n",
    "\n",
    "\tfor r in range(n):\n",
    "\t\tfila= []\n",
    "\n",
    "\t\tfor c in range(n):\n",
    "\t\t\tfila.append(randint(1,100))\n",
    "\n",
    "\t\tmatriu.append(fila)\n",
    "\n",
    "\treturn matriu\n",
    "\n",
    "# Mostrem els valors random de la matriu NxN\n",
    "print(omplir(4))"
   ]
  },
  {
   "cell_type": "code",
   "execution_count": 3,
   "id": "db5492a8",
   "metadata": {},
   "outputs": [
    {
     "name": "stdout",
     "output_type": "stream",
     "text": [
      "Columna1   -1.107803\n",
      "Columna2    0.064567\n",
      "dtype: float64\n",
      "Fila1    0.846976\n",
      "Fila2   -1.890212\n",
      "dtype: float64\n"
     ]
    }
   ],
   "source": [
    "#Exercici 3\n",
    "import numpy as np\n",
    "# Llibreria per dataframes\n",
    "import pandas as pd\n",
    "\n",
    "dades = np.random.randn(2, 2)\n",
    "\n",
    "dataframe = pd.DataFrame(dades, index=['Fila1', 'Fila2'],\n",
    "                         columns=['Columna1', 'Columna2'])\n",
    "\n",
    "def calcularTotals(dataframe):\n",
    "    # totals per columna\n",
    "    print (dataframe.sum())\n",
    "    # totals per fila\n",
    "    print(dataframe.sum(axis=1))\n",
    "\n",
    "#Cridem al calcul de total per fila i columna\n",
    "calcularTotals(dataframe)"
   ]
  },
  {
   "cell_type": "code",
   "execution_count": 2,
   "id": "36a6cbd1",
   "metadata": {},
   "outputs": [
    {
     "name": "stdout",
     "output_type": "stream",
     "text": [
      "[[ 1.         -0.0514849   0.95883683 -0.36889338 -0.67618771]\n",
      " [-0.0514849   1.         -0.33294666  0.94723147 -0.70093885]\n",
      " [ 0.95883683 -0.33294666  1.         -0.61763915 -0.43915374]\n",
      " [-0.36889338  0.94723147 -0.61763915  1.         -0.43532795]\n",
      " [-0.67618771 -0.70093885 -0.43915374 -0.43532795  1.        ]]\n"
     ]
    }
   ],
   "source": [
    "#Exercici 4\n",
    "import numpy as np\n",
    "\n",
    "dades = np.random.randn(5, 3)\n",
    "\n",
    "def calcularCorrelacio(dades):\n",
    "\n",
    "    print (np.corrcoef(dades))     # Correlacio coeficient\n",
    "    #print(np.corrcoef(dades[0], dades[1]))     # Correlacio coeficient\n",
    "\n",
    "#Cridem al calcul del coeficient de correlacio\n",
    "calcularCorrelacio(dades)\n"
   ]
  },
  {
   "cell_type": "code",
   "execution_count": null,
   "id": "e8818cc0",
   "metadata": {},
   "outputs": [],
   "source": []
  }
 ],
 "metadata": {
  "kernelspec": {
   "display_name": "Python 3",
   "language": "python",
   "name": "python3"
  },
  "language_info": {
   "codemirror_mode": {
    "name": "ipython",
    "version": 3
   },
   "file_extension": ".py",
   "mimetype": "text/x-python",
   "name": "python",
   "nbconvert_exporter": "python",
   "pygments_lexer": "ipython3",
   "version": "3.8.8"
  }
 },
 "nbformat": 4,
 "nbformat_minor": 5
}
